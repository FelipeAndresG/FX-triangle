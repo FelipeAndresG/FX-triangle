{
 "cells": [
  {
   "cell_type": "code",
   "execution_count": 1,
   "metadata": {
    "collapsed": true
   },
   "outputs": [],
   "source": [
    "# Imports\n",
    "import numpy as np\n",
    "import pandas as pd\n",
    "import matplotlib.pyplot as plt\n",
    "import seaborn\n",
    "%matplotlib inline"
   ]
  },
  {
   "cell_type": "code",
   "execution_count": 2,
   "metadata": {
    "collapsed": false
   },
   "outputs": [],
   "source": [
    "# Load data with pandas\n",
    "EUR_JPY = pd.read_csv('data/EURJPY_15mins_20150729-201600.txt', sep=',', header=0, index_col=[\"date\"], usecols=[\"date\", \"close\"])\n",
    "EUR_JPY.columns = [\"close EUR_JPY\"]\n",
    "\n",
    "EUR_USD = pd.read_csv('data/EURUSD_15mins_20150729-201600.txt', sep=',', header=0, index_col=[\"date\"], usecols=[\"date\", \"close\"])\n",
    "EUR_USD.columns = [\"close EUR_USD\"]\n",
    "\n",
    "USD_JPY = pd.read_csv('data/USDJPY_15mins_20150729-201600.txt', sep=',', header=0, index_col=[\"date\"], usecols=[\"date\", \"close\"])\n",
    "USD_JPY.columns = [\"close USD_JPY\"]\n",
    "\n",
    "joint = pd.concat([EUR_JPY, EUR_USD, USD_JPY], axis=1)"
   ]
  },
  {
   "cell_type": "code",
   "execution_count": 3,
   "metadata": {
    "collapsed": false
   },
   "outputs": [
    {
     "data": {
      "text/html": [
       "<div>\n",
       "<table border=\"1\" class=\"dataframe\">\n",
       "  <thead>\n",
       "    <tr style=\"text-align: right;\">\n",
       "      <th></th>\n",
       "      <th>close EUR_JPY</th>\n",
       "      <th>close EUR_USD</th>\n",
       "      <th>close USD_JPY</th>\n",
       "    </tr>\n",
       "    <tr>\n",
       "      <th>date</th>\n",
       "      <th></th>\n",
       "      <th></th>\n",
       "      <th></th>\n",
       "    </tr>\n",
       "  </thead>\n",
       "  <tbody>\n",
       "    <tr>\n",
       "      <th>2015-01-29 00:00:00</th>\n",
       "      <td>132.825</td>\n",
       "      <td>1.126775</td>\n",
       "      <td>117.8775</td>\n",
       "    </tr>\n",
       "    <tr>\n",
       "      <th>2015-01-29 00:15:00</th>\n",
       "      <td>132.950</td>\n",
       "      <td>1.127775</td>\n",
       "      <td>117.8875</td>\n",
       "    </tr>\n",
       "    <tr>\n",
       "      <th>2015-01-29 00:30:00</th>\n",
       "      <td>132.950</td>\n",
       "      <td>1.129300</td>\n",
       "      <td>117.7250</td>\n",
       "    </tr>\n",
       "    <tr>\n",
       "      <th>2015-01-29 00:45:00</th>\n",
       "      <td>132.935</td>\n",
       "      <td>1.128800</td>\n",
       "      <td>117.7650</td>\n",
       "    </tr>\n",
       "    <tr>\n",
       "      <th>2015-01-29 01:00:00</th>\n",
       "      <td>133.020</td>\n",
       "      <td>1.129675</td>\n",
       "      <td>117.7475</td>\n",
       "    </tr>\n",
       "  </tbody>\n",
       "</table>\n",
       "</div>"
      ],
      "text/plain": [
       "                     close EUR_JPY  close EUR_USD  close USD_JPY\n",
       "date                                                            \n",
       "2015-01-29 00:00:00        132.825       1.126775       117.8775\n",
       "2015-01-29 00:15:00        132.950       1.127775       117.8875\n",
       "2015-01-29 00:30:00        132.950       1.129300       117.7250\n",
       "2015-01-29 00:45:00        132.935       1.128800       117.7650\n",
       "2015-01-29 01:00:00        133.020       1.129675       117.7475"
      ]
     },
     "execution_count": 3,
     "metadata": {},
     "output_type": "execute_result"
    }
   ],
   "source": [
    "joint.head()"
   ]
  },
  {
   "cell_type": "code",
   "execution_count": null,
   "metadata": {
    "collapsed": true
   },
   "outputs": [],
   "source": []
  }
 ],
 "metadata": {
  "anaconda-cloud": {},
  "kernelspec": {
   "display_name": "Python [default]",
   "language": "python",
   "name": "python2"
  },
  "language_info": {
   "codemirror_mode": {
    "name": "ipython",
    "version": 2
   },
   "file_extension": ".py",
   "mimetype": "text/x-python",
   "name": "python",
   "nbconvert_exporter": "python",
   "pygments_lexer": "ipython2",
   "version": "2.7.12"
  }
 },
 "nbformat": 4,
 "nbformat_minor": 1
}
